{
 "cells": [
  {
   "cell_type": "code",
   "execution_count": 1,
   "metadata": {},
   "outputs": [],
   "source": [
    "import sys\n",
    "sys.path.append(\"/media/tupv8/32f7b466-e4d4-4f6f-b2aa-1e5a8ce7663c/vinai/hfnet_reproduce/hfnet_silk/\")\n",
    "from model.dataset.hpatches import HpatchesDataset"
   ]
  },
  {
   "cell_type": "code",
   "execution_count": 2,
   "metadata": {},
   "outputs": [],
   "source": [
    "from torch.utils.data import DataLoader\n",
    "\n",
    "import numpy as np\n",
    "import torch\n",
    "\n",
    "from model.hfnet import HFNet\n",
    "\n",
    "from evaluation.local_descriptor import evaluate"
   ]
  },
  {
   "cell_type": "code",
   "execution_count": 3,
   "metadata": {},
   "outputs": [],
   "source": [
    "# Load dataset\n",
    "dataset = HpatchesDataset(alteration='all', make_pairs=True, shuffle=True)\n",
    "\n",
    "# Create DataLoader\n",
    "dataloader = DataLoader(dataset, batch_size=1, shuffle=False)"
   ]
  },
  {
   "cell_type": "code",
   "execution_count": null,
   "metadata": {},
   "outputs": [],
   "source": [
    "EXPER_PATH = '/media/tupv8/32f7b466-e4d4-4f6f-b2aa-1e5a8ce7663c/vinai/reproduce/model/'\n",
    "MODEL_PATH = '/media/tupv8/32f7b466-e4d4-4f6f-b2aa-1e5a8ce7663c/vinai/hfnet_reproduce/hfnet_silk/'\n",
    "models = { \n",
    "    'silk':{\n",
    "        'sigmoid':'weight/results/last_model.pth',\n",
    "        \n",
    "    },\n",
    "}\n",
    "\n",
    "config_model= {\n",
    "    'image_channels':1,\n",
    "    # 'loss_weights': 'uncertainties',\n",
    "    'loss_weights':{\n",
    "        'global':1,\n",
    "        'local':1,\n",
    "        'detector':1\n",
    "    },\n",
    "    'local':{\n",
    "        'detector_threshold': 0.001,\n",
    "        'nms_radius': 4,\n",
    "        'num_keypoints': 5000\n",
    "    },\n",
    "    'local_head': {\n",
    "        'descriptor_dim': 128,\n",
    "        'detector_grid': 8,\n",
    "        'input_channels': 96\n",
    "    },\n",
    "    'global_head': {\n",
    "        'n_clusters': 32,\n",
    "        'intermediate_proj': 0,\n",
    "        'dimensionality_reduction': 4096\n",
    "    }\n",
    "}\n",
    "\n",
    "config = {\n",
    "        'local':{\n",
    "            'nms_radius':0,\n",
    "            'detector_threshold': 0.001,\n",
    "            'num_keypoints': 1000,\n",
    "        },\n",
    "        'do_ratio_test': True,\n",
    "        'correct_match_thresh': 3,\n",
    "        'correct_H_thresh': 3,\n",
    "        'num_features': 300,\n",
    "        # 'do_nms': True,\n",
    "        # 'nms_thresh': 4,\n",
    "        # 'remove_borders': 4,\n",
    "    }\n",
    "    \n",
    "\n",
    "\n",
    "model = HFNet(config_model, width_mult=0.75)"
   ]
  },
  {
   "cell_type": "code",
   "execution_count": 9,
   "metadata": {},
   "outputs": [
    {
     "name": "stdout",
     "output_type": "stream",
     "text": [
      "silk: sigmoid\n",
      "({'local': {'nms_radius': 0, 'detector_threshold': 0.001, 'num_keypoints': 1000}, 'do_ratio_test': True, 'correct_match_thresh': 3, 'correct_H_thresh': 3, 'num_features': 300},)\n"
     ]
    },
    {
     "name": "stderr",
     "output_type": "stream",
     "text": [
      "  0%|          | 0/580 [00:00<?, ?it/s]\n"
     ]
    },
    {
     "ename": "TypeError",
     "evalue": "tuple indices must be integers or slices, not str",
     "output_type": "error",
     "traceback": [
      "\u001b[0;31m---------------------------------------------------------------------------\u001b[0m",
      "\u001b[0;31mTypeError\u001b[0m                                 Traceback (most recent call last)",
      "Cell \u001b[0;32mIn[9], line 15\u001b[0m\n\u001b[1;32m     13\u001b[0m state_dict\u001b[38;5;241m.\u001b[39mpop(\u001b[38;5;124m\"\u001b[39m\u001b[38;5;124mlogvars\u001b[39m\u001b[38;5;124m\"\u001b[39m, \u001b[38;5;28;01mNone\u001b[39;00m) \n\u001b[1;32m     14\u001b[0m model\u001b[38;5;241m.\u001b[39mload_state_dict(state_dict, strict\u001b[38;5;241m=\u001b[39m\u001b[38;5;28;01mFalse\u001b[39;00m)\n\u001b[0;32m---> 15\u001b[0m metrics,_,_\u001b[38;5;241m=\u001b[39m\u001b[43mevaluate\u001b[49m\u001b[43m(\u001b[49m\u001b[43mmodel\u001b[49m\u001b[43m,\u001b[49m\u001b[43m \u001b[49m\u001b[43mdataloader\u001b[49m\u001b[43m,\u001b[49m\u001b[43m \u001b[49m\u001b[43mconfig\u001b[49m\u001b[43m)\u001b[49m\n\u001b[1;32m     19\u001b[0m current_time \u001b[38;5;241m=\u001b[39m time\u001b[38;5;241m.\u001b[39mstrftime(\u001b[38;5;124m\"\u001b[39m\u001b[38;5;124m%\u001b[39m\u001b[38;5;124mY-\u001b[39m\u001b[38;5;124m%\u001b[39m\u001b[38;5;124mm-\u001b[39m\u001b[38;5;132;01m%d\u001b[39;00m\u001b[38;5;124m \u001b[39m\u001b[38;5;124m%\u001b[39m\u001b[38;5;124mH:\u001b[39m\u001b[38;5;124m%\u001b[39m\u001b[38;5;124mM:\u001b[39m\u001b[38;5;124m%\u001b[39m\u001b[38;5;124mS\u001b[39m\u001b[38;5;124m\"\u001b[39m, time\u001b[38;5;241m.\u001b[39mlocaltime())\n\u001b[1;32m     20\u001b[0m \u001b[38;5;28mprint\u001b[39m(current_time)\n",
      "File \u001b[0;32m/media/tupv8/32f7b466-e4d4-4f6f-b2aa-1e5a8ce7663c/vinai/hfnet_reproduce/hfnet_silk/evaluation/local_descriptor.py:116\u001b[0m, in \u001b[0;36mevaluate\u001b[0;34m(model, dataloader, config)\u001b[0m\n\u001b[1;32m    112\u001b[0m shape2 \u001b[38;5;241m=\u001b[39m data[\u001b[38;5;124m'\u001b[39m\u001b[38;5;124mimage2\u001b[39m\u001b[38;5;124m'\u001b[39m]\u001b[38;5;241m.\u001b[39mdetach()\u001b[38;5;241m.\u001b[39mcpu()\u001b[38;5;241m.\u001b[39mnumpy()\u001b[38;5;241m.\u001b[39mshape[\u001b[38;5;241m-\u001b[39m\u001b[38;5;241m2\u001b[39m:][::\u001b[38;5;241m-\u001b[39m\u001b[38;5;241m1\u001b[39m]  \n\u001b[1;32m    114\u001b[0m \u001b[38;5;66;03m# print(shape1,shape2)\u001b[39;00m\n\u001b[0;32m--> 116\u001b[0m pred1 \u001b[38;5;241m=\u001b[39m \u001b[43mexport_loader\u001b[49m\u001b[43m(\u001b[49m\u001b[43mmodel\u001b[49m\u001b[43m(\u001b[49m\u001b[43mdata\u001b[49m\u001b[43m[\u001b[49m\u001b[38;5;124;43m'\u001b[39;49m\u001b[38;5;124;43mimage\u001b[39;49m\u001b[38;5;124;43m'\u001b[39;49m\u001b[43m]\u001b[49m\u001b[38;5;241;43m.\u001b[39;49m\u001b[43munsqueeze\u001b[49m\u001b[43m(\u001b[49m\u001b[38;5;241;43m0\u001b[39;49m\u001b[43m)\u001b[49m\u001b[43m)\u001b[49m\u001b[43m,\u001b[49m\u001b[43m \u001b[49m\u001b[43mconfig\u001b[49m\u001b[43m,\u001b[49m\u001b[43m \u001b[49m\n\u001b[1;32m    117\u001b[0m \u001b[43m                      \u001b[49m\u001b[43mdata\u001b[49m\u001b[43m[\u001b[49m\u001b[38;5;124;43m'\u001b[39;49m\u001b[38;5;124;43mimage\u001b[39;49m\u001b[38;5;124;43m'\u001b[39;49m\u001b[43m]\u001b[49m\u001b[38;5;241;43m.\u001b[39;49m\u001b[43msqueeze\u001b[49m\u001b[43m(\u001b[49m\u001b[38;5;241;43m0\u001b[39;49m\u001b[43m)\u001b[49m\u001b[43m)\u001b[49m\n\u001b[1;32m    118\u001b[0m pred2 \u001b[38;5;241m=\u001b[39m export_loader(model(data[\u001b[38;5;124m'\u001b[39m\u001b[38;5;124mimage2\u001b[39m\u001b[38;5;124m'\u001b[39m]\u001b[38;5;241m.\u001b[39munsqueeze(\u001b[38;5;241m0\u001b[39m)), config, \n\u001b[1;32m    119\u001b[0m                       data[\u001b[38;5;124m'\u001b[39m\u001b[38;5;124mimage2\u001b[39m\u001b[38;5;124m'\u001b[39m]\u001b[38;5;241m.\u001b[39msqueeze(\u001b[38;5;241m0\u001b[39m))\n\u001b[1;32m    122\u001b[0m num_kpts\u001b[38;5;241m.\u001b[39mextend([\u001b[38;5;28mlen\u001b[39m(pred1[\u001b[38;5;124m'\u001b[39m\u001b[38;5;124mkeypoints\u001b[39m\u001b[38;5;124m'\u001b[39m]), \u001b[38;5;28mlen\u001b[39m(pred2[\u001b[38;5;124m'\u001b[39m\u001b[38;5;124mkeypoints\u001b[39m\u001b[38;5;124m'\u001b[39m])])\n",
      "File \u001b[0;32m/media/tupv8/32f7b466-e4d4-4f6f-b2aa-1e5a8ce7663c/vinai/hfnet_reproduce/hfnet_silk/model/export_local.py:99\u001b[0m, in \u001b[0;36mexport_loader\u001b[0;34m(ret, config, image)\u001b[0m\n\u001b[1;32m     72\u001b[0m \u001b[38;5;28;01mdef\u001b[39;00m\u001b[38;5;250m \u001b[39m\u001b[38;5;21mexport_loader\u001b[39m(ret, config, image):\n\u001b[1;32m     73\u001b[0m \u001b[38;5;250m    \u001b[39m\u001b[38;5;124;03m\"\"\"\u001b[39;00m\n\u001b[1;32m     74\u001b[0m \u001b[38;5;124;03m    Extracts keypoints, scores, and local descriptors from the model outputs with enhanced descriptor sampling.\u001b[39;00m\n\u001b[1;32m     75\u001b[0m \n\u001b[0;32m   (...)\u001b[0m\n\u001b[1;32m     96\u001b[0m \u001b[38;5;124;03m    - dict: A dictionary with enhanced outputs.\u001b[39;00m\n\u001b[1;32m     97\u001b[0m \u001b[38;5;124;03m    \"\"\"\u001b[39;00m\n\u001b[0;32m---> 99\u001b[0m     pred \u001b[38;5;241m=\u001b[39m \u001b[43mpredict\u001b[49m\u001b[43m(\u001b[49m\u001b[43mret\u001b[49m\u001b[43m,\u001b[49m\u001b[43m \u001b[49m\u001b[43mconfig\u001b[49m\u001b[43m)\u001b[49m\n\u001b[1;32m    100\u001b[0m     \u001b[38;5;66;03m# print(f\"Initial keypoints: {len(pred['keypoints'])}\")\u001b[39;00m\n\u001b[1;32m    102\u001b[0m     keypoints \u001b[38;5;241m=\u001b[39m pred[\u001b[38;5;124m'\u001b[39m\u001b[38;5;124mkeypoints\u001b[39m\u001b[38;5;124m'\u001b[39m][\u001b[38;5;241m0\u001b[39m]\u001b[38;5;241m.\u001b[39msqueeze(\u001b[38;5;241m0\u001b[39m)\u001b[38;5;241m.\u001b[39mcpu()\u001b[38;5;241m.\u001b[39mnumpy()  \u001b[38;5;66;03m# Convert back to NumPy\u001b[39;00m\n",
      "File \u001b[0;32m/media/tupv8/32f7b466-e4d4-4f6f-b2aa-1e5a8ce7663c/vinai/hfnet_reproduce/hfnet_silk/model/prediction.py:53\u001b[0m, in \u001b[0;36mpredict\u001b[0;34m(ret, config)\u001b[0m\n\u001b[1;32m     50\u001b[0m dense_scores \u001b[38;5;241m=\u001b[39m ret[\u001b[38;5;124m'\u001b[39m\u001b[38;5;124mdense_scores\u001b[39m\u001b[38;5;124m'\u001b[39m]\u001b[38;5;241m.\u001b[39msqueeze(\u001b[38;5;241m0\u001b[39m)\u001b[38;5;241m.\u001b[39msqueeze(\u001b[38;5;241m0\u001b[39m) \u001b[38;5;66;03m# shape: [1, H, W]\u001b[39;00m\n\u001b[1;32m     52\u001b[0m scores \u001b[38;5;241m=\u001b[39m dense_scores\n\u001b[0;32m---> 53\u001b[0m \u001b[38;5;28;01mif\u001b[39;00m \u001b[43mconfig\u001b[49m\u001b[43m[\u001b[49m\u001b[38;5;124;43m'\u001b[39;49m\u001b[38;5;124;43mlocal\u001b[39;49m\u001b[38;5;124;43m'\u001b[39;49m\u001b[43m]\u001b[49m\u001b[38;5;241m.\u001b[39mget(\u001b[38;5;124m'\u001b[39m\u001b[38;5;124mnms_radius\u001b[39m\u001b[38;5;124m'\u001b[39m, \u001b[38;5;241m0\u001b[39m) \u001b[38;5;241m>\u001b[39m \u001b[38;5;241m0\u001b[39m:\n\u001b[1;32m     54\u001b[0m     scores \u001b[38;5;241m=\u001b[39m simple_nms(scores, config[\u001b[38;5;124m'\u001b[39m\u001b[38;5;124mlocal\u001b[39m\u001b[38;5;124m'\u001b[39m][\u001b[38;5;124m'\u001b[39m\u001b[38;5;124mnms_radius\u001b[39m\u001b[38;5;124m'\u001b[39m])  \n\u001b[1;32m     56\u001b[0m \u001b[38;5;66;03m# Threshold keypoints\u001b[39;00m\n",
      "\u001b[0;31mTypeError\u001b[0m: tuple indices must be integers or slices, not str"
     ]
    }
   ],
   "source": [
    "import time\n",
    "\n",
    "device = torch.device('cpu')\n",
    "model.to(device)\n",
    "\n",
    "for k,v in models.items():\n",
    "    for kk,vv in v.items():\n",
    "        print(f\"{k}: {kk}\")\n",
    "        print(config)\n",
    "        state_dict = torch.load(MODEL_PATH + vv, \n",
    "                                weights_only= False,\n",
    "                                map_location=device)\n",
    "        state_dict.pop(\"logvars\", None) \n",
    "        model.load_state_dict(state_dict, strict=False)\n",
    "        metrics,_,_=evaluate(model, dataloader, config)\n",
    "        \n",
    "        \n",
    "\n",
    "        current_time = time.strftime(\"%Y-%m-%d %H:%M:%S\", time.localtime())\n",
    "        print(current_time)\n",
    "\n",
    "        log_file = open('descriptors.txt', 'a')\n",
    "        log_file.write('\\n[{}]'.format(current_time))\n",
    "        log_file.write('\\n{}: {}'.format(k, kk))\n",
    "        log_file.write('{}\\n'.format(config))\n",
    "\n",
    "\n",
    "        for km, vm in metrics.items():\n",
    "                print('{:<25} {:.3f}'.format(km, vm))\n",
    "\n",
    "                #save in log file\n",
    "                log_file.write('{:<25} :{:.3f}  '.format(km, vm))\n",
    "                log_file.write('\\n')\n",
    "        log_file.flush()\n",
    "        print(\"-----------------------------------\")\n",
    "\n",
    "       "
   ]
  },
  {
   "cell_type": "code",
   "execution_count": null,
   "metadata": {},
   "outputs": [],
   "source": []
  }
 ],
 "metadata": {
  "kernelspec": {
   "display_name": "reproduce",
   "language": "python",
   "name": "python3"
  },
  "language_info": {
   "codemirror_mode": {
    "name": "ipython",
    "version": 3
   },
   "file_extension": ".py",
   "mimetype": "text/x-python",
   "name": "python",
   "nbconvert_exporter": "python",
   "pygments_lexer": "ipython3",
   "version": "3.13.2"
  }
 },
 "nbformat": 4,
 "nbformat_minor": 2
}
